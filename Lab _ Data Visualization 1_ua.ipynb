{
 "cells": [
  {
   "cell_type": "markdown",
   "metadata": {},
   "source": [
    "# Як вмирають люди у США? Візуалізація смертності"
   ]
  },
  {
   "cell_type": "markdown",
   "metadata": {},
   "source": [
    "**Смерть**  це важка тема, однак ця тема важлива для уряду, охорони здоров'я, економіки та медицини. Розуміння того, як люди вмирають може призвести до змін у фінансування досліджень або посилення профілактичних заходів щодо певних сучасних хвороб. \n",
    "\n",
    "У США, **Centers of Disease Control and Prevention (CDC)** (центри контролю та профілактики захворювання) збирали  [дані про смертність](https://wonder.cdc.gov/ucd-icd10.html) з 1999 до 2015 року. Дані багаті на демографічну інформацію, включають вік смерті, хворобу, що стала її причиною, стать, расу та географічне місце (місто/штат).\n",
    "\n",
    "Ці дані допоможуть нам відповісти на багато **питань про смерть**:\n",
    "- Які основні причини смерті у США?\n",
    "- Чи частіше помирають чоловіки, чи жінки? Чи залежить це від причини хвороби? Або від віку?\n",
    "- Які причини смерті стають більше чи менше поширеними з часом?"
   ]
  },
  {
   "cell_type": "markdown",
   "metadata": {},
   "source": [
    "#### Вивчення візуалізації даних "
   ]
  },
  {
   "cell_type": "markdown",
   "metadata": {},
   "source": [
    "В цьому документі, Ви ознайомитесь з **Matplotlib**, одним з найбільш популярних пакетів візуалізації даних у Python.\n",
    "\n",
    "Бібліотека **Matplotlib** має досить різноманітні інструменти, але ми з вами подивимось основні з них. Якщо ви захочете дізнатись про **Matplotlib** більше, то можете прочитати офіційну документацію за [посиланням](http://matplotlib.org/)."
   ]
  },
  {
   "cell_type": "markdown",
   "metadata": {},
   "source": [
    "<a id=\"mpl\"></a>\n",
    "## Імпорт бібліотеки **Matplotlib**"
   ]
  },
  {
   "cell_type": "markdown",
   "metadata": {},
   "source": [
    "Для початку, давайте встановимо всі необхідні бібліотеки для побудови графіків."
   ]
  },
  {
   "cell_type": "code",
   "execution_count": 1,
   "metadata": {},
   "outputs": [],
   "source": [
    "import pandas as pd\n",
    "import matplotlib.pyplot as plt\n",
    "\n",
    "# Ця команда дозволяє перенести виконання бекенд та фронтенд частини графіків у браузер Notebook.\n",
    "# На даний момент це не дуже помітно, але на майбутнє рекомендується це використовувати\n",
    "%matplotlib inline \n",
    "\n",
    "import sys"
   ]
  },
  {
   "cell_type": "markdown",
   "metadata": {},
   "source": [
    "<a id=\"getdata\"></a>\n",
    "## Отримання даних"
   ]
  },
  {
   "cell_type": "markdown",
   "metadata": {},
   "source": [
    "Тепер давайте зчитаємо файл `deaths.csv`:"
   ]
  },
  {
   "cell_type": "code",
   "execution_count": 2,
   "metadata": {
    "scrolled": true
   },
   "outputs": [
    {
     "ename": "FileNotFoundError",
     "evalue": "[Errno 2] No such file or directory: 'deaths.csv'",
     "output_type": "error",
     "traceback": [
      "\u001B[1;31m---------------------------------------------------------------------------\u001B[0m",
      "\u001B[1;31mFileNotFoundError\u001B[0m                         Traceback (most recent call last)",
      "Cell \u001B[1;32mIn[2], line 1\u001B[0m\n\u001B[1;32m----> 1\u001B[0m df \u001B[38;5;241m=\u001B[39m \u001B[43mpd\u001B[49m\u001B[38;5;241;43m.\u001B[39;49m\u001B[43mread_csv\u001B[49m\u001B[43m(\u001B[49m\u001B[38;5;124;43m\"\u001B[39;49m\u001B[38;5;124;43mdeaths.csv\u001B[39;49m\u001B[38;5;124;43m\"\u001B[39;49m\u001B[43m,\u001B[49m\u001B[43m \u001B[49m\u001B[43mencoding\u001B[49m\u001B[38;5;241;43m=\u001B[39;49m\u001B[38;5;124;43m'\u001B[39;49m\u001B[38;5;124;43mGBK\u001B[39;49m\u001B[38;5;124;43m'\u001B[39;49m\u001B[43m)\u001B[49m \u001B[38;5;66;03m# дозвіл на зчитування китайських символів\u001B[39;00m\n\u001B[0;32m      2\u001B[0m df\n",
      "File \u001B[1;32mC:\\Programs\\Python39\\lib\\site-packages\\pandas\\util\\_decorators.py:211\u001B[0m, in \u001B[0;36mdeprecate_kwarg.<locals>._deprecate_kwarg.<locals>.wrapper\u001B[1;34m(*args, **kwargs)\u001B[0m\n\u001B[0;32m    209\u001B[0m     \u001B[38;5;28;01melse\u001B[39;00m:\n\u001B[0;32m    210\u001B[0m         kwargs[new_arg_name] \u001B[38;5;241m=\u001B[39m new_arg_value\n\u001B[1;32m--> 211\u001B[0m \u001B[38;5;28;01mreturn\u001B[39;00m func(\u001B[38;5;241m*\u001B[39margs, \u001B[38;5;241m*\u001B[39m\u001B[38;5;241m*\u001B[39mkwargs)\n",
      "File \u001B[1;32mC:\\Programs\\Python39\\lib\\site-packages\\pandas\\util\\_decorators.py:331\u001B[0m, in \u001B[0;36mdeprecate_nonkeyword_arguments.<locals>.decorate.<locals>.wrapper\u001B[1;34m(*args, **kwargs)\u001B[0m\n\u001B[0;32m    325\u001B[0m \u001B[38;5;28;01mif\u001B[39;00m \u001B[38;5;28mlen\u001B[39m(args) \u001B[38;5;241m>\u001B[39m num_allow_args:\n\u001B[0;32m    326\u001B[0m     warnings\u001B[38;5;241m.\u001B[39mwarn(\n\u001B[0;32m    327\u001B[0m         msg\u001B[38;5;241m.\u001B[39mformat(arguments\u001B[38;5;241m=\u001B[39m_format_argument_list(allow_args)),\n\u001B[0;32m    328\u001B[0m         \u001B[38;5;167;01mFutureWarning\u001B[39;00m,\n\u001B[0;32m    329\u001B[0m         stacklevel\u001B[38;5;241m=\u001B[39mfind_stack_level(),\n\u001B[0;32m    330\u001B[0m     )\n\u001B[1;32m--> 331\u001B[0m \u001B[38;5;28;01mreturn\u001B[39;00m func(\u001B[38;5;241m*\u001B[39margs, \u001B[38;5;241m*\u001B[39m\u001B[38;5;241m*\u001B[39mkwargs)\n",
      "File \u001B[1;32mC:\\Programs\\Python39\\lib\\site-packages\\pandas\\io\\parsers\\readers.py:950\u001B[0m, in \u001B[0;36mread_csv\u001B[1;34m(filepath_or_buffer, sep, delimiter, header, names, index_col, usecols, squeeze, prefix, mangle_dupe_cols, dtype, engine, converters, true_values, false_values, skipinitialspace, skiprows, skipfooter, nrows, na_values, keep_default_na, na_filter, verbose, skip_blank_lines, parse_dates, infer_datetime_format, keep_date_col, date_parser, dayfirst, cache_dates, iterator, chunksize, compression, thousands, decimal, lineterminator, quotechar, quoting, doublequote, escapechar, comment, encoding, encoding_errors, dialect, error_bad_lines, warn_bad_lines, on_bad_lines, delim_whitespace, low_memory, memory_map, float_precision, storage_options)\u001B[0m\n\u001B[0;32m    935\u001B[0m kwds_defaults \u001B[38;5;241m=\u001B[39m _refine_defaults_read(\n\u001B[0;32m    936\u001B[0m     dialect,\n\u001B[0;32m    937\u001B[0m     delimiter,\n\u001B[1;32m   (...)\u001B[0m\n\u001B[0;32m    946\u001B[0m     defaults\u001B[38;5;241m=\u001B[39m{\u001B[38;5;124m\"\u001B[39m\u001B[38;5;124mdelimiter\u001B[39m\u001B[38;5;124m\"\u001B[39m: \u001B[38;5;124m\"\u001B[39m\u001B[38;5;124m,\u001B[39m\u001B[38;5;124m\"\u001B[39m},\n\u001B[0;32m    947\u001B[0m )\n\u001B[0;32m    948\u001B[0m kwds\u001B[38;5;241m.\u001B[39mupdate(kwds_defaults)\n\u001B[1;32m--> 950\u001B[0m \u001B[38;5;28;01mreturn\u001B[39;00m \u001B[43m_read\u001B[49m\u001B[43m(\u001B[49m\u001B[43mfilepath_or_buffer\u001B[49m\u001B[43m,\u001B[49m\u001B[43m \u001B[49m\u001B[43mkwds\u001B[49m\u001B[43m)\u001B[49m\n",
      "File \u001B[1;32mC:\\Programs\\Python39\\lib\\site-packages\\pandas\\io\\parsers\\readers.py:605\u001B[0m, in \u001B[0;36m_read\u001B[1;34m(filepath_or_buffer, kwds)\u001B[0m\n\u001B[0;32m    602\u001B[0m _validate_names(kwds\u001B[38;5;241m.\u001B[39mget(\u001B[38;5;124m\"\u001B[39m\u001B[38;5;124mnames\u001B[39m\u001B[38;5;124m\"\u001B[39m, \u001B[38;5;28;01mNone\u001B[39;00m))\n\u001B[0;32m    604\u001B[0m \u001B[38;5;66;03m# Create the parser.\u001B[39;00m\n\u001B[1;32m--> 605\u001B[0m parser \u001B[38;5;241m=\u001B[39m TextFileReader(filepath_or_buffer, \u001B[38;5;241m*\u001B[39m\u001B[38;5;241m*\u001B[39mkwds)\n\u001B[0;32m    607\u001B[0m \u001B[38;5;28;01mif\u001B[39;00m chunksize \u001B[38;5;129;01mor\u001B[39;00m iterator:\n\u001B[0;32m    608\u001B[0m     \u001B[38;5;28;01mreturn\u001B[39;00m parser\n",
      "File \u001B[1;32mC:\\Programs\\Python39\\lib\\site-packages\\pandas\\io\\parsers\\readers.py:1442\u001B[0m, in \u001B[0;36mTextFileReader.__init__\u001B[1;34m(self, f, engine, **kwds)\u001B[0m\n\u001B[0;32m   1439\u001B[0m     \u001B[38;5;28mself\u001B[39m\u001B[38;5;241m.\u001B[39moptions[\u001B[38;5;124m\"\u001B[39m\u001B[38;5;124mhas_index_names\u001B[39m\u001B[38;5;124m\"\u001B[39m] \u001B[38;5;241m=\u001B[39m kwds[\u001B[38;5;124m\"\u001B[39m\u001B[38;5;124mhas_index_names\u001B[39m\u001B[38;5;124m\"\u001B[39m]\n\u001B[0;32m   1441\u001B[0m \u001B[38;5;28mself\u001B[39m\u001B[38;5;241m.\u001B[39mhandles: IOHandles \u001B[38;5;241m|\u001B[39m \u001B[38;5;28;01mNone\u001B[39;00m \u001B[38;5;241m=\u001B[39m \u001B[38;5;28;01mNone\u001B[39;00m\n\u001B[1;32m-> 1442\u001B[0m \u001B[38;5;28mself\u001B[39m\u001B[38;5;241m.\u001B[39m_engine \u001B[38;5;241m=\u001B[39m \u001B[38;5;28;43mself\u001B[39;49m\u001B[38;5;241;43m.\u001B[39;49m\u001B[43m_make_engine\u001B[49m\u001B[43m(\u001B[49m\u001B[43mf\u001B[49m\u001B[43m,\u001B[49m\u001B[43m \u001B[49m\u001B[38;5;28;43mself\u001B[39;49m\u001B[38;5;241;43m.\u001B[39;49m\u001B[43mengine\u001B[49m\u001B[43m)\u001B[49m\n",
      "File \u001B[1;32mC:\\Programs\\Python39\\lib\\site-packages\\pandas\\io\\parsers\\readers.py:1735\u001B[0m, in \u001B[0;36mTextFileReader._make_engine\u001B[1;34m(self, f, engine)\u001B[0m\n\u001B[0;32m   1733\u001B[0m     \u001B[38;5;28;01mif\u001B[39;00m \u001B[38;5;124m\"\u001B[39m\u001B[38;5;124mb\u001B[39m\u001B[38;5;124m\"\u001B[39m \u001B[38;5;129;01mnot\u001B[39;00m \u001B[38;5;129;01min\u001B[39;00m mode:\n\u001B[0;32m   1734\u001B[0m         mode \u001B[38;5;241m+\u001B[39m\u001B[38;5;241m=\u001B[39m \u001B[38;5;124m\"\u001B[39m\u001B[38;5;124mb\u001B[39m\u001B[38;5;124m\"\u001B[39m\n\u001B[1;32m-> 1735\u001B[0m \u001B[38;5;28mself\u001B[39m\u001B[38;5;241m.\u001B[39mhandles \u001B[38;5;241m=\u001B[39m \u001B[43mget_handle\u001B[49m\u001B[43m(\u001B[49m\n\u001B[0;32m   1736\u001B[0m \u001B[43m    \u001B[49m\u001B[43mf\u001B[49m\u001B[43m,\u001B[49m\n\u001B[0;32m   1737\u001B[0m \u001B[43m    \u001B[49m\u001B[43mmode\u001B[49m\u001B[43m,\u001B[49m\n\u001B[0;32m   1738\u001B[0m \u001B[43m    \u001B[49m\u001B[43mencoding\u001B[49m\u001B[38;5;241;43m=\u001B[39;49m\u001B[38;5;28;43mself\u001B[39;49m\u001B[38;5;241;43m.\u001B[39;49m\u001B[43moptions\u001B[49m\u001B[38;5;241;43m.\u001B[39;49m\u001B[43mget\u001B[49m\u001B[43m(\u001B[49m\u001B[38;5;124;43m\"\u001B[39;49m\u001B[38;5;124;43mencoding\u001B[39;49m\u001B[38;5;124;43m\"\u001B[39;49m\u001B[43m,\u001B[49m\u001B[43m \u001B[49m\u001B[38;5;28;43;01mNone\u001B[39;49;00m\u001B[43m)\u001B[49m\u001B[43m,\u001B[49m\n\u001B[0;32m   1739\u001B[0m \u001B[43m    \u001B[49m\u001B[43mcompression\u001B[49m\u001B[38;5;241;43m=\u001B[39;49m\u001B[38;5;28;43mself\u001B[39;49m\u001B[38;5;241;43m.\u001B[39;49m\u001B[43moptions\u001B[49m\u001B[38;5;241;43m.\u001B[39;49m\u001B[43mget\u001B[49m\u001B[43m(\u001B[49m\u001B[38;5;124;43m\"\u001B[39;49m\u001B[38;5;124;43mcompression\u001B[39;49m\u001B[38;5;124;43m\"\u001B[39;49m\u001B[43m,\u001B[49m\u001B[43m \u001B[49m\u001B[38;5;28;43;01mNone\u001B[39;49;00m\u001B[43m)\u001B[49m\u001B[43m,\u001B[49m\n\u001B[0;32m   1740\u001B[0m \u001B[43m    \u001B[49m\u001B[43mmemory_map\u001B[49m\u001B[38;5;241;43m=\u001B[39;49m\u001B[38;5;28;43mself\u001B[39;49m\u001B[38;5;241;43m.\u001B[39;49m\u001B[43moptions\u001B[49m\u001B[38;5;241;43m.\u001B[39;49m\u001B[43mget\u001B[49m\u001B[43m(\u001B[49m\u001B[38;5;124;43m\"\u001B[39;49m\u001B[38;5;124;43mmemory_map\u001B[39;49m\u001B[38;5;124;43m\"\u001B[39;49m\u001B[43m,\u001B[49m\u001B[43m \u001B[49m\u001B[38;5;28;43;01mFalse\u001B[39;49;00m\u001B[43m)\u001B[49m\u001B[43m,\u001B[49m\n\u001B[0;32m   1741\u001B[0m \u001B[43m    \u001B[49m\u001B[43mis_text\u001B[49m\u001B[38;5;241;43m=\u001B[39;49m\u001B[43mis_text\u001B[49m\u001B[43m,\u001B[49m\n\u001B[0;32m   1742\u001B[0m \u001B[43m    \u001B[49m\u001B[43merrors\u001B[49m\u001B[38;5;241;43m=\u001B[39;49m\u001B[38;5;28;43mself\u001B[39;49m\u001B[38;5;241;43m.\u001B[39;49m\u001B[43moptions\u001B[49m\u001B[38;5;241;43m.\u001B[39;49m\u001B[43mget\u001B[49m\u001B[43m(\u001B[49m\u001B[38;5;124;43m\"\u001B[39;49m\u001B[38;5;124;43mencoding_errors\u001B[39;49m\u001B[38;5;124;43m\"\u001B[39;49m\u001B[43m,\u001B[49m\u001B[43m \u001B[49m\u001B[38;5;124;43m\"\u001B[39;49m\u001B[38;5;124;43mstrict\u001B[39;49m\u001B[38;5;124;43m\"\u001B[39;49m\u001B[43m)\u001B[49m\u001B[43m,\u001B[49m\n\u001B[0;32m   1743\u001B[0m \u001B[43m    \u001B[49m\u001B[43mstorage_options\u001B[49m\u001B[38;5;241;43m=\u001B[39;49m\u001B[38;5;28;43mself\u001B[39;49m\u001B[38;5;241;43m.\u001B[39;49m\u001B[43moptions\u001B[49m\u001B[38;5;241;43m.\u001B[39;49m\u001B[43mget\u001B[49m\u001B[43m(\u001B[49m\u001B[38;5;124;43m\"\u001B[39;49m\u001B[38;5;124;43mstorage_options\u001B[39;49m\u001B[38;5;124;43m\"\u001B[39;49m\u001B[43m,\u001B[49m\u001B[43m \u001B[49m\u001B[38;5;28;43;01mNone\u001B[39;49;00m\u001B[43m)\u001B[49m\u001B[43m,\u001B[49m\n\u001B[0;32m   1744\u001B[0m \u001B[43m\u001B[49m\u001B[43m)\u001B[49m\n\u001B[0;32m   1745\u001B[0m \u001B[38;5;28;01massert\u001B[39;00m \u001B[38;5;28mself\u001B[39m\u001B[38;5;241m.\u001B[39mhandles \u001B[38;5;129;01mis\u001B[39;00m \u001B[38;5;129;01mnot\u001B[39;00m \u001B[38;5;28;01mNone\u001B[39;00m\n\u001B[0;32m   1746\u001B[0m f \u001B[38;5;241m=\u001B[39m \u001B[38;5;28mself\u001B[39m\u001B[38;5;241m.\u001B[39mhandles\u001B[38;5;241m.\u001B[39mhandle\n",
      "File \u001B[1;32mC:\\Programs\\Python39\\lib\\site-packages\\pandas\\io\\common.py:856\u001B[0m, in \u001B[0;36mget_handle\u001B[1;34m(path_or_buf, mode, encoding, compression, memory_map, is_text, errors, storage_options)\u001B[0m\n\u001B[0;32m    851\u001B[0m \u001B[38;5;28;01melif\u001B[39;00m \u001B[38;5;28misinstance\u001B[39m(handle, \u001B[38;5;28mstr\u001B[39m):\n\u001B[0;32m    852\u001B[0m     \u001B[38;5;66;03m# Check whether the filename is to be opened in binary mode.\u001B[39;00m\n\u001B[0;32m    853\u001B[0m     \u001B[38;5;66;03m# Binary mode does not support 'encoding' and 'newline'.\u001B[39;00m\n\u001B[0;32m    854\u001B[0m     \u001B[38;5;28;01mif\u001B[39;00m ioargs\u001B[38;5;241m.\u001B[39mencoding \u001B[38;5;129;01mand\u001B[39;00m \u001B[38;5;124m\"\u001B[39m\u001B[38;5;124mb\u001B[39m\u001B[38;5;124m\"\u001B[39m \u001B[38;5;129;01mnot\u001B[39;00m \u001B[38;5;129;01min\u001B[39;00m ioargs\u001B[38;5;241m.\u001B[39mmode:\n\u001B[0;32m    855\u001B[0m         \u001B[38;5;66;03m# Encoding\u001B[39;00m\n\u001B[1;32m--> 856\u001B[0m         handle \u001B[38;5;241m=\u001B[39m \u001B[38;5;28;43mopen\u001B[39;49m\u001B[43m(\u001B[49m\n\u001B[0;32m    857\u001B[0m \u001B[43m            \u001B[49m\u001B[43mhandle\u001B[49m\u001B[43m,\u001B[49m\n\u001B[0;32m    858\u001B[0m \u001B[43m            \u001B[49m\u001B[43mioargs\u001B[49m\u001B[38;5;241;43m.\u001B[39;49m\u001B[43mmode\u001B[49m\u001B[43m,\u001B[49m\n\u001B[0;32m    859\u001B[0m \u001B[43m            \u001B[49m\u001B[43mencoding\u001B[49m\u001B[38;5;241;43m=\u001B[39;49m\u001B[43mioargs\u001B[49m\u001B[38;5;241;43m.\u001B[39;49m\u001B[43mencoding\u001B[49m\u001B[43m,\u001B[49m\n\u001B[0;32m    860\u001B[0m \u001B[43m            \u001B[49m\u001B[43merrors\u001B[49m\u001B[38;5;241;43m=\u001B[39;49m\u001B[43merrors\u001B[49m\u001B[43m,\u001B[49m\n\u001B[0;32m    861\u001B[0m \u001B[43m            \u001B[49m\u001B[43mnewline\u001B[49m\u001B[38;5;241;43m=\u001B[39;49m\u001B[38;5;124;43m\"\u001B[39;49m\u001B[38;5;124;43m\"\u001B[39;49m\u001B[43m,\u001B[49m\n\u001B[0;32m    862\u001B[0m \u001B[43m        \u001B[49m\u001B[43m)\u001B[49m\n\u001B[0;32m    863\u001B[0m     \u001B[38;5;28;01melse\u001B[39;00m:\n\u001B[0;32m    864\u001B[0m         \u001B[38;5;66;03m# Binary mode\u001B[39;00m\n\u001B[0;32m    865\u001B[0m         handle \u001B[38;5;241m=\u001B[39m \u001B[38;5;28mopen\u001B[39m(handle, ioargs\u001B[38;5;241m.\u001B[39mmode)\n",
      "\u001B[1;31mFileNotFoundError\u001B[0m: [Errno 2] No such file or directory: 'deaths.csv'"
     ]
    }
   ],
   "source": [
    "df = pd.read_csv(\"deaths.csv\", encoding='GBK') # дозвіл на зчитування китайських символів\n",
    "df"
   ]
  },
  {
   "cell_type": "markdown",
   "metadata": {},
   "source": [
    "Добре! Тепер дані збережено у змінній **`df`**."
   ]
  },
  {
   "cell_type": "markdown",
   "metadata": {},
   "source": [
    "<a id=\"understand\"></a>\n",
    "## Вивчення даних"
   ]
  },
  {
   "cell_type": "markdown",
   "metadata": {},
   "source": [
    "#### Топ 10 рядків:"
   ]
  },
  {
   "cell_type": "code",
   "execution_count": null,
   "metadata": {},
   "outputs": [],
   "source": [
    "df.head(10)"
   ]
  },
  {
   "cell_type": "markdown",
   "metadata": {},
   "source": [
    "#### The bottom 5 rows:"
   ]
  },
  {
   "cell_type": "code",
   "execution_count": null,
   "metadata": {},
   "outputs": [],
   "source": [
    "df.tail(5)"
   ]
  },
  {
   "cell_type": "markdown",
   "metadata": {},
   "source": [
    "#### Який діапазон значень віку у даних?"
   ]
  },
  {
   "cell_type": "code",
   "execution_count": null,
   "metadata": {},
   "outputs": [],
   "source": [
    "df.Age.describe()"
   ]
  },
  {
   "cell_type": "markdown",
   "metadata": {},
   "source": [
    "#### Які роки представлені у датасеті?"
   ]
  },
  {
   "cell_type": "code",
   "execution_count": null,
   "metadata": {},
   "outputs": [],
   "source": [
    "## Напишіть ваш код тут\n",
    "df.Year.unique()\n"
   ]
  },
  {
   "cell_type": "markdown",
   "metadata": {},
   "source": [
    "#### Чи представлені у датасеті обидві статі?"
   ]
  },
  {
   "cell_type": "code",
   "execution_count": null,
   "metadata": {},
   "outputs": [],
   "source": [
    "df.Gender.unique()"
   ]
  },
  {
   "cell_type": "markdown",
   "metadata": {},
   "source": [
    "#### Які основні статистичні характеристики чисельності смертельних випадків?"
   ]
  },
  {
   "cell_type": "code",
   "execution_count": null,
   "metadata": {},
   "outputs": [],
   "source": [
    "df.Deaths.describe()"
   ]
  },
  {
   "cell_type": "markdown",
   "metadata": {},
   "source": [
    "#### Які причини смертельних випадків представлені у датасеті?"
   ]
  },
  {
   "cell_type": "code",
   "execution_count": null,
   "metadata": {
    "scrolled": true
   },
   "outputs": [],
   "source": [
    "causes = pd.DataFrame(df['Cause'].unique(), columns=['Death Cause']) # прибираємо дублікати\n",
    "causes = causes.sort_values(by='Death Cause')\n",
    "causes.index = range(0, len(causes)) # відповідно, змінюємо індекси рядків\n",
    "causes"
   ]
  },
  {
   "cell_type": "markdown",
   "metadata": {},
   "source": [
    "<a id=\"year\"></a>\n",
    "## Смертельні випадки: по рокам"
   ]
  },
  {
   "cell_type": "markdown",
   "metadata": {},
   "source": [
    "#### Давайте ще раз поглянемо на дані:"
   ]
  },
  {
   "cell_type": "code",
   "execution_count": null,
   "metadata": {},
   "outputs": [],
   "source": [
    "df.head(3)"
   ]
  },
  {
   "cell_type": "markdown",
   "metadata": {},
   "source": [
    "#### Скільки загалом смертельних випадків зафіксовано за 2005, 2010 та 2015?"
   ]
  },
  {
   "cell_type": "markdown",
   "metadata": {},
   "source": [
    "По-перше, давайте згрупуємо дані по роках, потім окремо по стовпчику **Deaths** визначимо сумарно смертельні випадки по роках."
   ]
  },
  {
   "cell_type": "code",
   "execution_count": null,
   "metadata": {},
   "outputs": [],
   "source": [
    "by_year = df.groupby(\"Year\").Deaths.sum()\n",
    "by_year"
   ]
  },
  {
   "cell_type": "markdown",
   "metadata": {},
   "source": [
    "Після групування, побудова графіків is easy. Використовуючи **`.plot()`**, слід лише обрати тип графіку: "
   ]
  },
  {
   "cell_type": "code",
   "execution_count": null,
   "metadata": {
    "scrolled": true
   },
   "outputs": [],
   "source": [
    "by_year.plot(kind=\"bar\")"
   ]
  },
  {
   "cell_type": "markdown",
   "metadata": {},
   "source": [
    "#### Також можна переписати код створення даного графіку більш зрозуміло візуально:"
   ]
  },
  {
   "cell_type": "code",
   "execution_count": null,
   "metadata": {},
   "outputs": [],
   "source": [
    "# Для того, щоб код можна було легше читати, продовжіть писати код на наступному рядку, \n",
    "# закінчивши попередній слешем\n",
    "df.groupby(\"Year\")\\\n",
    ".Deaths\\\n",
    ".sum()\\\n",
    ".plot(kind=\"bar\")"
   ]
  },
  {
   "cell_type": "markdown",
   "metadata": {},
   "source": [
    "## Розділимо дані по роках"
   ]
  },
  {
   "cell_type": "markdown",
   "metadata": {},
   "source": [
    "Важко зорієнтуватись, якщо одночасно аналізувати дані по всіх роках. \n",
    "\n",
    "Давайте звузимо наше дослідження до **смертельних випадків за 2015 рік**"
   ]
  },
  {
   "cell_type": "markdown",
   "metadata": {},
   "source": [
    "<a id=\"gender\"></a>\n",
    "## Смерті: Чоловіки vs Жінки"
   ]
  },
  {
   "cell_type": "markdown",
   "metadata": {},
   "source": [
    "По якій статі рівень смертності у 2015 була найбільшою?"
   ]
  },
  {
   "cell_type": "code",
   "execution_count": null,
   "metadata": {},
   "outputs": [],
   "source": [
    "df2015 = df[df.Year == 2015]\n",
    "\n",
    "df2015\\\n",
    ".groupby(\"Gender\")\\\n",
    ".Deaths\\\n",
    ".sum()"
   ]
  },
  {
   "cell_type": "markdown",
   "metadata": {},
   "source": [
    "#### Чи можете ви створити простий графік барів для порівняння загальної кількості смертей по статях?"
   ]
  },
  {
   "cell_type": "code",
   "execution_count": null,
   "metadata": {},
   "outputs": [],
   "source": [
    "df2015.groupby(\"Gender\")\\\n",
    ".Deaths\\\n",
    ".sum()\\\n",
    ".plot(kind=\"bar\")"
   ]
  },
  {
   "cell_type": "markdown",
   "metadata": {},
   "source": [
    "Давайте додамо **кольори** на графік: <font color=red>червоний</font> для **жінок**\n",
    "\n",
    "Можна додати кольори наступним чином:\n",
    "> `.plot(kind=\"bar\", ` **`color=[\"red\", \"blue\"]`**`)`"
   ]
  },
  {
   "cell_type": "code",
   "execution_count": null,
   "metadata": {},
   "outputs": [],
   "source": [
    "df2015\\\n",
    ".groupby(\"Gender\")\\\n",
    ".Deaths\\\n",
    ".sum()\\\n",
    ".plot(kind=\"bar\", color=[\"red\", \"blue\"])\n",
    "# спробуйте обидві опції. Як вони працюють?\n",
    "# .plot(kind=\"bar\", color=[\"green\", \"red\", \"blue\"])"
   ]
  },
  {
   "cell_type": "markdown",
   "metadata": {},
   "source": [
    "<a id=\"age\"></a>\n",
    "## Смертність: за віком"
   ]
  },
  {
   "cell_type": "markdown",
   "metadata": {},
   "source": [
    "Що змусило людей помирати у 2015?"
   ]
  },
  {
   "cell_type": "code",
   "execution_count": null,
   "metadata": {},
   "outputs": [],
   "source": [
    "df2015\\\n",
    ".groupby(\"Cause\")\\\n",
    ".Deaths\\\n",
    ".sum()\n"
   ]
  },
  {
   "cell_type": "markdown",
   "metadata": {},
   "source": [
    "Графік вище важко читати - він **занадто маленький**! \n",
    "\n",
    "Ми можемо збільшити розмір графіку:\n",
    "> `.plot(kind=\"bar\",`** figsize=[18, 6]**`)`"
   ]
  },
  {
   "cell_type": "code",
   "execution_count": null,
   "metadata": {},
   "outputs": [],
   "source": [
    "## Напишіть ваш код тут\n",
    "df2015\\\n",
    ".groupby(\"Cause\")\\\n",
    ".Deaths\\\n",
    ".sum()\\\n",
    ".plot(kind=\"bar\", color=\"yellow\", figsize=[9, 4])\n",
    "# пограйтесь з іншими варіантами, зрозуймійте як це працює\n",
    "# .plot(kind=\"bar\", color=\"grey\", figsize=[9, 6])\n",
    "# .plot(kind=\"bar\", color=\"grey\", figsize=[150, 6])"
   ]
  },
  {
   "cell_type": "markdown",
   "metadata": {},
   "source": [
    "<font color=\"green\"> Які висновки можна зробити, проаналізувавши графік вище? </font>"
   ]
  },
  {
   "cell_type": "markdown",
   "metadata": {},
   "source": [
    "Висновки:\n",
    "\n",
    "1. fig-size визначається в дюймах\n",
    "2. Найвища смертність від Diseases of heart"
   ]
  },
  {
   "cell_type": "markdown",
   "metadata": {},
   "source": [
    "<a id=\"ageXgender\"></a>\n",
    "## Смертність: за віком та статю"
   ]
  },
  {
   "cell_type": "markdown",
   "metadata": {},
   "source": [
    "#### Чи впливає стать на вік смерті?"
   ]
  },
  {
   "cell_type": "markdown",
   "metadata": {},
   "source": [
    "Для групування даних по двом змінним, просто використовуйте список:\n",
    "> `.groupby(`**`[\"Age\", \"Gender\"]`**`)`"
   ]
  },
  {
   "cell_type": "code",
   "execution_count": null,
   "metadata": {},
   "outputs": [],
   "source": [
    "df2015\\\n",
    ".groupby([\"Age\", \"Gender\"])\\\n",
    ".Deaths\\\n",
    ".sum()"
   ]
  },
  {
   "cell_type": "markdown",
   "metadata": {},
   "source": [
    "#### Давайте створимо два підграфіка - по жіночій та чоловічій смертності за віком відповідно\n",
    "\n",
    "Ми можемо створити підграфіки наступним чином:\n",
    "> ...  \n",
    "> **`.unstack(1)`**`\\`  \n",
    "> `.plot(kind=\"bar\", ` **` subplots=True`**`)`"
   ]
  },
  {
   "cell_type": "code",
   "execution_count": null,
   "metadata": {
    "scrolled": true
   },
   "outputs": [],
   "source": [
    "df2015\\\n",
    ".groupby([\"Age\", \"Gender\"])\\\n",
    ".Deaths\\\n",
    ".sum()\\\n",
    ".unstack(1)\\\n",
    ".plot(kind=\"bar\", color=[\"red\", \"blue\"], figsize=[18, 10], subplots=True)\n",
    "# відповідно до номера графіка - 1"
   ]
  },
  {
   "cell_type": "markdown",
   "metadata": {},
   "source": [
    "<font color=\"green\"> Які висновки можна зробити з графіків вище? </font>"
   ]
  },
  {
   "cell_type": "markdown",
   "metadata": {},
   "source": [
    "Висновки:\n",
    "\n",
    "1. Поведінка графіків майже однакова"
   ]
  },
  {
   "cell_type": "markdown",
   "metadata": {},
   "source": [
    "Ми можемо також поєднати чоловіків та жінок разом для створення загального бару. \n",
    "\n",
    "Для створення \"застеканих\" графіків барів, ми можемо використати:\n",
    ">`.plot(kind=\"bar\", ` **`stacked=True`**`)`"
   ]
  },
  {
   "cell_type": "code",
   "execution_count": null,
   "metadata": {},
   "outputs": [],
   "source": [
    "df2015\\\n",
    ".groupby([\"Age\", \"Gender\"])\\\n",
    ".Deaths\\\n",
    ".sum()\\\n",
    ".unstack(1)\\\n",
    ".plot(kind=\"bar\", color=[\"red\", \"blue\"], figsize=[18, 10], stacked=True)"
   ]
  },
  {
   "cell_type": "markdown",
   "metadata": {},
   "source": [
    "Однак це не надто інформативно, оскільки так важко порівняти чоловічі та жіночі показники у загальному графіку барів."
   ]
  },
  {
   "cell_type": "markdown",
   "metadata": {},
   "source": [
    "<font color=\"green\"> Наведіть приклади, коли такий вид графіку буде корисно використовувати </font>"
   ]
  },
  {
   "cell_type": "markdown",
   "metadata": {},
   "source": [
    "Приклади (2):\n",
    "\n",
    "1. наглядність різниці статистики\n",
    "2."
   ]
  },
  {
   "cell_type": "markdown",
   "metadata": {},
   "source": [
    "#### Оскільки `Age` це безперервна змінна (див. часові ряди даних), для порівняння влучно буде використати лінійний графік. \n",
    "\n",
    "Ми можемо створити лінійний графік за допомогою:\n",
    "> `.plot(kind=\"`**`line`**`\")`"
   ]
  },
  {
   "cell_type": "code",
   "execution_count": null,
   "metadata": {},
   "outputs": [],
   "source": [
    "df2015\\\n",
    ".groupby([\"Age\", \"Gender\"])\\\n",
    ".Deaths\\\n",
    ".sum()\\\n",
    ".unstack(1)\\\n",
    ".plot(kind=\"line\", figsize=[18, 10], subplots=True)"
   ]
  },
  {
   "cell_type": "markdown",
   "metadata": {},
   "source": [
    "Тепер за допомогою тільки ліній, легко порівняти різницю між статями за віком на **одному лінійному графіку**.\n",
    "\n",
    "Для того, щоб відобразити багато груп на одному графіку, впевніться, що ви не стекали дані та тримали параметр **subplots** як **False (default)**:\n",
    "\n",
    ">`...`  \n",
    ">**`.unstack(1)`**`\\`  \n",
    ">`.plot(kind=\"line\")   #Default: subplots = False`"
   ]
  },
  {
   "cell_type": "code",
   "execution_count": null,
   "metadata": {},
   "outputs": [],
   "source": [
    "df2015\\\n",
    ".groupby([\"Age\", \"Gender\"])\\\n",
    ".Deaths\\\n",
    ".sum()\\\n",
    ".unstack(1)\\\n",
    ".plot(kind=\"line\", color=[\"red\", \"blue\"], figsize=[18, 6])\n",
    "# спробуйте видалити цей рядок та подивитись на результати"
   ]
  },
  {
   "cell_type": "markdown",
   "metadata": {},
   "source": [
    "Давайте додамо назву графіку та підпис осі у:\n",
    "\n",
    "> `.plot(kind = \"line\",` **`title = \"Deaths in 2015 by Age and Gender\"`**`)`\n"
   ]
  },
  {
   "cell_type": "code",
   "execution_count": null,
   "metadata": {},
   "outputs": [],
   "source": [
    "## Напишіть ваш код тут\n",
    "df2015\\\n",
    ".groupby([\"Age\", \"Gender\"])\\\n",
    ".Deaths\\\n",
    ".sum()\\\n",
    ".unstack(1)\\\n",
    ".plot(kind = \"line\", title = \"Deaths in 2015 by Age and Gender\")"
   ]
  },
  {
   "cell_type": "markdown",
   "metadata": {},
   "source": [
    "<a id=\"causeX2015\"></a>\n",
    "## Смертність: топ причин смертей у 2015 році"
   ]
  },
  {
   "cell_type": "markdown",
   "metadata": {},
   "source": [
    "Давайте подивимось на топ причин смертей у 2015 році:"
   ]
  },
  {
   "cell_type": "code",
   "execution_count": null,
   "metadata": {
    "scrolled": false
   },
   "outputs": [],
   "source": [
    "df2015\\\n",
    ".groupby([\"Cause\"])\\\n",
    ".Deaths\\\n",
    ".sum()\\\n",
    ".plot(kind=\"bar\", color=\"yellow\")"
   ]
  },
  {
   "cell_type": "markdown",
   "metadata": {},
   "source": [
    "Це також дуже важко читати. Ми повинні сортувати дані та повернути графік (тобто створити горизонтальний графік барів).\n",
    "\n",
    "1. Ми можемо **сортувати** (**sort**) дані за допомогою:\n",
    "> **`.sort('Deaths', ascending=True)`**\n",
    "\n",
    "2. Ми можемо створити **горизонтальний графік барів** (**horizontal bar chart**) за допомогою:\n",
    "> **`.plot(kind=\"barh\")`**"
   ]
  },
  {
   "cell_type": "code",
   "execution_count": null,
   "metadata": {},
   "outputs": [],
   "source": [
    "df2015\\\n",
    ".groupby([\"Cause\"])\\\n",
    ".agg({'Deaths' : sum})\\\n",
    ".sort_values('Deaths', ascending=True)\\\n",
    ".plot(kind=\"barh\", legend=False, color=\"black\", figsize=[9, 12])"
   ]
  },
  {
   "cell_type": "markdown",
   "metadata": {},
   "source": [
    "#### Давайте подивимось на ТОП 10 найбільш розповсюджених причин смертності.\n",
    "\n",
    "Перед побудовою потрібно відсортувати дані наступним чином:\n",
    ">`.sort('Deaths', ascending=True)`**`[-10:]`**`\\`"
   ]
  },
  {
   "cell_type": "code",
   "execution_count": null,
   "metadata": {},
   "outputs": [],
   "source": [
    "## Напишіть ваш код тут\n",
    "df2015\\\n",
    ".groupby([\"Cause\"])\\\n",
    ".agg({'Deaths' : sum})\\\n",
    ".sort_values('Deaths', ascending=True)[-10:]\\\n",
    ".plot(kind=\"barh\", legend=False, color=\"black\", figsize=[8, 6])"
   ]
  },
  {
   "cell_type": "markdown",
   "metadata": {},
   "source": [
    "<a id=\"causeXyear\"></a>\n",
    "## Смертність: ТОП причин смертей за віком"
   ]
  },
  {
   "cell_type": "code",
   "execution_count": null,
   "metadata": {},
   "outputs": [],
   "source": [
    "df\\\n",
    ".groupby([\"Cause\",\"Year\"])\\\n",
    ".agg({'Deaths':sum})\\\n",
    ".sort_values('Deaths', ascending = False)\\\n",
    ".unstack(1)\\\n",
    ".plot(kind=\"barh\", legend=True, figsize=[10, 16])"
   ]
  },
  {
   "cell_type": "markdown",
   "metadata": {},
   "source": [
    "Візуалізація вище містить дуже багато інформації (можливо забагато). Однак, що Ви помітили? \n",
    "\n",
    "\n",
    "**Смертність, спричинена ВІЛ-інфекцією знижувалась кожні 5 років, починаючи з 2005 року!**"
   ]
  },
  {
   "cell_type": "markdown",
   "metadata": {},
   "source": [
    "<a id=\"causeXgender\"></a>\n",
    "## Смертність: Причини смертності за статтю"
   ]
  },
  {
   "cell_type": "code",
   "execution_count": null,
   "metadata": {},
   "outputs": [],
   "source": [
    "## Напишіть ваш код тут\n",
    "df\\\n",
    ".groupby([\"Cause\",\"Gender\"])\\\n",
    ".agg({'Deaths':sum})\\\n",
    ".sort_values('Deaths', ascending = False)\\\n",
    ".unstack(1)\\\n",
    ".plot(kind=\"barh\", color=[\"red\", \"blue\"], legend=True, figsize=[10, 16])"
   ]
  },
  {
   "cell_type": "markdown",
   "metadata": {},
   "source": [
    "<a id=\"causeXage\"></a>\n",
    "## Смертність: Причини смертності за віком"
   ]
  },
  {
   "cell_type": "markdown",
   "metadata": {},
   "source": [
    "Оскільки в датасеті представлена велика кількість причин смертності, давайте оберемо для візуалізації лище декілька з них:\n",
    "\n",
    "- \"Alzheimer's disease\" (хворобо Альцгеймера)\n",
    "- \"Diseases of heart\" (хвороби серця)\n",
    "- \"Malignant neoplasms\" (злоякісні новоутворення)\n",
    "- \"Accidents (unintentional injuries)\" (ДТП (нещасні випадки))"
   ]
  },
  {
   "cell_type": "code",
   "execution_count": null,
   "metadata": {
    "scrolled": true
   },
   "outputs": [],
   "source": [
    "clist = [\"Alzheimer's disease\", \n",
    "         \"Diseases of heart\", \n",
    "         \"Malignant neoplasms\", \n",
    "         \"Accidents (unintentional injuries)\"]\n",
    "\n",
    "df2015_clist = df2015[df2015[\"Cause\"].isin(clist)] #isin\n",
    "\n",
    "df2015_clist\\\n",
    ".groupby([\"Age\", \"Cause\"])\\\n",
    ".agg({'Deaths':sum})\\\n",
    ".sort_values('Deaths', ascending=False)\\\n",
    ".unstack(1)\\\n",
    ".plot(kind=\"line\", legend=True, figsize=[10, 6])"
   ]
  },
  {
   "cell_type": "markdown",
   "metadata": {},
   "source": [
    "<font color=\"green\"> Які висновки можна зробити з графіка вище? </font>"
   ]
  },
  {
   "cell_type": "markdown",
   "metadata": {},
   "source": [
    "Висновки:\n",
    "\n",
    "1."
   ]
  },
  {
   "cell_type": "markdown",
   "metadata": {},
   "source": [
    "<a id=\"causeXgenderXage\"></a>\n",
    "## Смертність: причини смертності за статю та віком"
   ]
  },
  {
   "cell_type": "markdown",
   "metadata": {},
   "source": [
    "Створити таку візуалізацію доволі складно, оскільки тут 2 статі х 3 роки х 51 причина смертності. Практично неможливо відобразити ці дані на одному графіку та проаналізувати їх.\n",
    "\n",
    "Найкращим виходом буде візуалізувати лише частину даних, або лише найбільш цікаві дані."
   ]
  },
  {
   "cell_type": "code",
   "execution_count": null,
   "metadata": {
    "scrolled": false
   },
   "outputs": [],
   "source": [
    "clist = df.Cause.unique()\n",
    "# not enough memory :-(\n",
    "clist = [\"Alzheimer's disease\",\n",
    "         \"Diseases of heart\",\n",
    "         \"Malignant neoplasms\",\n",
    "         \"Accidents (unintentional injuries)\"]\n",
    "\n",
    "\n",
    "for cause in clist:\n",
    "    df2015_clist = df2015[df2015[\"Cause\"].isin([cause])]\n",
    "    \n",
    "    df2015_clist\\\n",
    "    .groupby([\"Age\", \"Gender\"])\\\n",
    "    .agg({'Deaths':sum})\\\n",
    "    .unstack([1])\\\n",
    "    .plot(kind=\"line\", legend=True, color=('r', 'b'), figsize=[10, 8], title=str(cause))"
   ]
  },
  {
   "cell_type": "markdown",
   "metadata": {},
   "source": [
    "<font color=\"green\">Підсумуйте всі ваші висновки і сформулюйте загальний висновок по дослідженим даним:</font>"
   ]
  },
  {
   "cell_type": "markdown",
   "metadata": {},
   "source": [
    "Висновки по датасету:\n",
    "\n",
    "1. cool\n"
   ]
  }
 ],
 "metadata": {
  "kernelspec": {
   "display_name": "Python 3 (ipykernel)",
   "language": "python",
   "name": "python3"
  },
  "language_info": {
   "codemirror_mode": {
    "name": "ipython",
    "version": 3
   },
   "file_extension": ".py",
   "mimetype": "text/x-python",
   "name": "python",
   "nbconvert_exporter": "python",
   "pygments_lexer": "ipython3",
   "version": "3.7.0"
  },
  "widgets": {
   "state": {},
   "version": "1.1.2"
  }
 },
 "nbformat": 4,
 "nbformat_minor": 2
}
