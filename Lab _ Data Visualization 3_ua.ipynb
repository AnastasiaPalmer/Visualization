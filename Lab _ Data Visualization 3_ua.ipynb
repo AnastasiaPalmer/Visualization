{
 "cells": [
  {
   "cell_type": "markdown",
   "metadata": {},
   "source": [
    "<h1 align=center><font size = 5>Хмара слів</font></h1>"
   ]
  },
  {
   "cell_type": "markdown",
   "metadata": {},
   "source": [
    "Хмари слів (також знані як текстові хмари або хмари тегів) мають досить простий алгоритм роботи: чим частіше у джерелі текстових даних (текстах, виступах, блогах, тощо) зустрічаються специфічні слова, тим більшим шрифтом ці слова будуть виділені у текстовій хмарі."
   ]
  },
  {
   "cell_type": "markdown",
   "metadata": {},
   "source": [
    "Для цієї роботи у Python є відповідна бібліотека - `word_cloud`, розроблена **Andreas Mueller**. Більше можна прочитати за [посиланням](https://github.com/amueller/word_cloud/). Давайте використаємо її."
   ]
  },
  {
   "cell_type": "code",
   "execution_count": 1,
   "metadata": {},
   "outputs": [],
   "source": [
    "%matplotlib inline\n",
    "\n",
    "import matplotlib as mpl\n",
    "import matplotlib.pyplot as plt\n",
    "\n",
    "# опціонально: стиль графіків ggplot (Ви можете загуглити \"plt.style.available\" та обрати стиль, який\n",
    "#більше подобається\n",
    "mpl.style.use('ggplot') "
   ]
  },
  {
   "cell_type": "code",
   "execution_count": 2,
   "metadata": {},
   "outputs": [
    {
     "name": "stdout",
     "output_type": "stream",
     "text": [
      "Wordcloud is installed and imported!\n"
     ]
    }
   ],
   "source": [
    "# встановіть wordcloud\n",
    "# !pip install wordcloud\n",
    "\n",
    "# імпортуємо об'єкт WordCloud та англомовний сет STOPWORDS\n",
    "from wordcloud import WordCloud, STOPWORDS\n",
    "\n",
    "print ('Wordcloud is installed and imported!')"
   ]
  },
  {
   "cell_type": "markdown",
   "metadata": {
    "collapsed": true
   },
   "source": [
    "Хмари слів використовується для проведення аналізу високого рівня та візуалізації текстових даних. Тепер давайте відійдемо від Канади та попрацюємо з текстом. Спробуємо проаналізувати *Alice's Adventures in Wonderland*, написану **Lewis Carroll**."
   ]
  },
  {
   "cell_type": "code",
   "execution_count": 3,
   "metadata": {},
   "outputs": [
    {
     "data": {
      "text/plain": "{'a',\n 'about',\n 'above',\n 'after',\n 'again',\n 'against',\n 'all',\n 'also',\n 'am',\n 'an',\n 'and',\n 'any',\n 'are',\n \"aren't\",\n 'as',\n 'at',\n 'be',\n 'because',\n 'been',\n 'before',\n 'being',\n 'below',\n 'between',\n 'both',\n 'but',\n 'by',\n 'can',\n \"can't\",\n 'cannot',\n 'com',\n 'could',\n \"couldn't\",\n 'did',\n \"didn't\",\n 'do',\n 'does',\n \"doesn't\",\n 'doing',\n \"don't\",\n 'down',\n 'during',\n 'each',\n 'else',\n 'ever',\n 'few',\n 'for',\n 'from',\n 'further',\n 'get',\n 'had',\n \"hadn't\",\n 'has',\n \"hasn't\",\n 'have',\n \"haven't\",\n 'having',\n 'he',\n \"he'd\",\n \"he'll\",\n \"he's\",\n 'hence',\n 'her',\n 'here',\n \"here's\",\n 'hers',\n 'herself',\n 'him',\n 'himself',\n 'his',\n 'how',\n \"how's\",\n 'however',\n 'http',\n 'i',\n \"i'd\",\n \"i'll\",\n \"i'm\",\n \"i've\",\n 'if',\n 'in',\n 'into',\n 'is',\n \"isn't\",\n 'it',\n \"it's\",\n 'its',\n 'itself',\n 'just',\n 'k',\n \"let's\",\n 'like',\n 'me',\n 'more',\n 'most',\n \"mustn't\",\n 'my',\n 'myself',\n 'no',\n 'nor',\n 'not',\n 'of',\n 'off',\n 'on',\n 'once',\n 'only',\n 'or',\n 'other',\n 'otherwise',\n 'ought',\n 'our',\n 'ours',\n 'ourselves',\n 'out',\n 'over',\n 'own',\n 'r',\n 'same',\n 'shall',\n \"shan't\",\n 'she',\n \"she'd\",\n \"she'll\",\n \"she's\",\n 'should',\n \"shouldn't\",\n 'since',\n 'so',\n 'some',\n 'such',\n 'than',\n 'that',\n \"that's\",\n 'the',\n 'their',\n 'theirs',\n 'them',\n 'themselves',\n 'then',\n 'there',\n \"there's\",\n 'therefore',\n 'these',\n 'they',\n \"they'd\",\n \"they'll\",\n \"they're\",\n \"they've\",\n 'this',\n 'those',\n 'through',\n 'to',\n 'too',\n 'under',\n 'until',\n 'up',\n 'very',\n 'was',\n \"wasn't\",\n 'we',\n \"we'd\",\n \"we'll\",\n \"we're\",\n \"we've\",\n 'were',\n \"weren't\",\n 'what',\n \"what's\",\n 'when',\n \"when's\",\n 'where',\n \"where's\",\n 'which',\n 'while',\n 'who',\n \"who's\",\n 'whom',\n 'why',\n \"why's\",\n 'with',\n \"won't\",\n 'would',\n \"wouldn't\",\n 'www',\n 'you',\n \"you'd\",\n \"you'll\",\n \"you're\",\n \"you've\",\n 'your',\n 'yours',\n 'yourself',\n 'yourselves'}"
     },
     "execution_count": 3,
     "metadata": {},
     "output_type": "execute_result"
    }
   ],
   "source": [
    "STOPWORDS"
   ]
  },
  {
   "cell_type": "code",
   "execution_count": 4,
   "metadata": {},
   "outputs": [
    {
     "ename": "FileNotFoundError",
     "evalue": "[Errno 2] No such file or directory: 'alice_novel.txt'",
     "output_type": "error",
     "traceback": [
      "\u001B[1;31m---------------------------------------------------------------------------\u001B[0m",
      "\u001B[1;31mFileNotFoundError\u001B[0m                         Traceback (most recent call last)",
      "Cell \u001B[1;32mIn[4], line 2\u001B[0m\n\u001B[0;32m      1\u001B[0m \u001B[38;5;66;03m# Відкрийте файл та зчитайте його вмість у змінну alice_novel\u001B[39;00m\n\u001B[1;32m----> 2\u001B[0m alice_novel \u001B[38;5;241m=\u001B[39m  \u001B[38;5;28;43mopen\u001B[39;49m\u001B[43m(\u001B[49m\u001B[38;5;124;43m'\u001B[39;49m\u001B[38;5;124;43malice_novel.txt\u001B[39;49m\u001B[38;5;124;43m'\u001B[39;49m\u001B[43m,\u001B[49m\u001B[43m \u001B[49m\u001B[38;5;124;43m'\u001B[39;49m\u001B[38;5;124;43mr\u001B[39;49m\u001B[38;5;124;43m'\u001B[39;49m\u001B[43m)\u001B[49m\u001B[38;5;241m.\u001B[39mread()\n",
      "File \u001B[1;32mC:\\Programs\\Python39\\lib\\site-packages\\IPython\\core\\interactiveshell.py:282\u001B[0m, in \u001B[0;36m_modified_open\u001B[1;34m(file, *args, **kwargs)\u001B[0m\n\u001B[0;32m    275\u001B[0m \u001B[38;5;28;01mif\u001B[39;00m file \u001B[38;5;129;01min\u001B[39;00m {\u001B[38;5;241m0\u001B[39m, \u001B[38;5;241m1\u001B[39m, \u001B[38;5;241m2\u001B[39m}:\n\u001B[0;32m    276\u001B[0m     \u001B[38;5;28;01mraise\u001B[39;00m \u001B[38;5;167;01mValueError\u001B[39;00m(\n\u001B[0;32m    277\u001B[0m         \u001B[38;5;124mf\u001B[39m\u001B[38;5;124m\"\u001B[39m\u001B[38;5;124mIPython won\u001B[39m\u001B[38;5;124m'\u001B[39m\u001B[38;5;124mt let you open fd=\u001B[39m\u001B[38;5;132;01m{\u001B[39;00mfile\u001B[38;5;132;01m}\u001B[39;00m\u001B[38;5;124m by default \u001B[39m\u001B[38;5;124m\"\u001B[39m\n\u001B[0;32m    278\u001B[0m         \u001B[38;5;124m\"\u001B[39m\u001B[38;5;124mas it is likely to crash IPython. If you know what you are doing, \u001B[39m\u001B[38;5;124m\"\u001B[39m\n\u001B[0;32m    279\u001B[0m         \u001B[38;5;124m\"\u001B[39m\u001B[38;5;124myou can use builtins\u001B[39m\u001B[38;5;124m'\u001B[39m\u001B[38;5;124m open.\u001B[39m\u001B[38;5;124m\"\u001B[39m\n\u001B[0;32m    280\u001B[0m     )\n\u001B[1;32m--> 282\u001B[0m \u001B[38;5;28;01mreturn\u001B[39;00m io_open(file, \u001B[38;5;241m*\u001B[39margs, \u001B[38;5;241m*\u001B[39m\u001B[38;5;241m*\u001B[39mkwargs)\n",
      "\u001B[1;31mFileNotFoundError\u001B[0m: [Errno 2] No such file or directory: 'alice_novel.txt'"
     ]
    }
   ],
   "source": [
    "# Відкрийте файл та зчитайте його вмість у змінну alice_novel\n",
    "alice_novel =  open('alice_novel.txt', 'r').read()"
   ]
  },
  {
   "cell_type": "markdown",
   "metadata": {},
   "source": [
    "Тепер давайте підготуємо перелік стопслів, взятих з `word_cloud`. Використаємо функцію *set* для того, щоб прибрати повтори. (Пам'ятаєте, що саме робить ця функція?)"
   ]
  },
  {
   "cell_type": "code",
   "execution_count": null,
   "metadata": {},
   "outputs": [],
   "source": [
    "stopwords = set(STOPWORDS)"
   ]
  },
  {
   "cell_type": "markdown",
   "metadata": {},
   "source": [
    "Створіть об'єкт WordCloud та згенеруйте хмару слів. Для економії часу при навчанні, давайте використаємо лише перші 2000 слів новели."
   ]
  },
  {
   "cell_type": "code",
   "execution_count": null,
   "metadata": {},
   "outputs": [],
   "source": [
    "# створюємо екземпляр об'єкта WordCloud\n",
    "alice_wc = WordCloud(\n",
    "    background_color='white',\n",
    "    max_words=2000,\n",
    "    stopwords=stopwords\n",
    ")\n",
    "\n",
    "# згенеруйте хмару слів\n",
    "alice_wc.generate(alice_novel)"
   ]
  },
  {
   "cell_type": "markdown",
   "metadata": {},
   "source": [
    "Чудово! Хмара слів створена, тепер слід її візуалізувати."
   ]
  },
  {
   "cell_type": "code",
   "execution_count": null,
   "metadata": {
    "scrolled": true
   },
   "outputs": [],
   "source": [
    "# візуалізуємо хмару слів\n",
    "plt.imshow(alice_wc, interpolation='bilinear')\n",
    "plt.axis('off')\n",
    "plt.show()"
   ]
  },
  {
   "cell_type": "markdown",
   "metadata": {},
   "source": [
    "Цікаво! Таким чином, у перших 2000 слів найбільш поширеними є **Alice**, **said**, **little**, **Queen** і т.д. Давайте збільшимо хмару, щоб ми могли побачити менш часті слова краще. "
   ]
  },
  {
   "cell_type": "code",
   "execution_count": null,
   "metadata": {},
   "outputs": [],
   "source": [
    "fig = plt.figure()\n",
    "fig.set_figwidth(14) # встановити ширину рисунку\n",
    "fig.set_figheight(18) # встановити висоту рисунку\n",
    "# Пограйтесь з розмірами, визначте які параметри будь для вас максимально зручними.\n",
    "\n",
    "# візуалізуйте хмару\n",
    "plt.imshow(alice_wc, interpolation='bilinear')\n",
    "plt.axis('off')\n",
    "plt.show()"
   ]
  },
  {
   "cell_type": "markdown",
   "metadata": {},
   "source": [
    "Так набагато краще! Однак, слово **said** не є інформативним для нас. Давайте додамо його у перелік стоп-слів та сформуємо словохмару наново."
   ]
  },
  {
   "cell_type": "code",
   "execution_count": null,
   "metadata": {},
   "outputs": [],
   "source": [
    "stopwords.add('said') # додаємо нове стоп-слово\n",
    "\n",
    "# створюємо словохмару наново\n",
    "alice_wc.generate(alice_novel)\n",
    "\n",
    "# візуалізуйте хмару\n",
    "fig = plt.figure()\n",
    "fig.set_figwidth(14) # встановіть ширину\n",
    "fig.set_figheight(18) # встановіть висоту\n",
    "\n",
    "plt.imshow(alice_wc, interpolation='bilinear')\n",
    "plt.axis('off')\n",
    "plt.show()"
   ]
  },
  {
   "cell_type": "markdown",
   "metadata": {},
   "source": [
    "Прекрасно! І виглядає цікаво! Іншою цікавинкою бібліотеки `word_cloud` є те, що можна вставити словохмару у рисунок будь-якої форми. Давайте використаємо маску Аліси та її кролика.(*alice_mask.png*)."
   ]
  },
  {
   "cell_type": "code",
   "execution_count": null,
   "metadata": {},
   "outputs": [],
   "source": [
    "import numpy as np\n",
    "from PIL import Image\n",
    " \n",
    "# зберігаємо маску у alice_mask\n",
    "alice_mask = np.array(Image.open('alice_mask.png'))\n",
    "    \n",
    "print('Image downloaded and saved!')"
   ]
  },
  {
   "cell_type": "markdown",
   "metadata": {},
   "source": [
    "Давайте поглянемо як виглядає маска."
   ]
  },
  {
   "cell_type": "code",
   "execution_count": null,
   "metadata": {},
   "outputs": [],
   "source": [
    "fig = plt.figure()\n",
    "fig.set_figwidth(14) # встановіть ширину\n",
    "fig.set_figheight(18) # встановіть висоту\n",
    "\n",
    "plt.imshow(alice_mask, cmap=plt.cm.gray, interpolation='bilinear')\n",
    "plt.axis('off')\n",
    "plt.show()"
   ]
  },
  {
   "cell_type": "markdown",
   "metadata": {},
   "source": [
    "По суті, процес імплементації словохмари у будь-яку маску через бібліотеку `word_cloud` є типовим. Давайте використаємо нову маску на словохмару з 2000 слів."
   ]
  },
  {
   "cell_type": "code",
   "execution_count": null,
   "metadata": {},
   "outputs": [],
   "source": [
    "# створюємо екземпляр об'єкта WordCloud\n",
    "alice_wc = WordCloud(background_color='white', max_words=2000, mask=alice_mask, stopwords=stopwords)\n",
    "\n",
    "# генеруємо словохмару\n",
    "alice_wc.generate(alice_novel)\n",
    "\n",
    "# Візуалізуємо словохмару\n",
    "fig = plt.figure()\n",
    "fig.set_figwidth(7) # встановлюємо ширину\n",
    "fig.set_figheight(9) # встановлюємо висоту\n",
    "\n",
    "plt.imshow(alice_wc, interpolation='bilinear')\n",
    "plt.axis('off')\n",
    "plt.show()\n"
   ]
  }
 ],
 "metadata": {
  "kernelspec": {
   "display_name": "Python 3 (ipykernel)",
   "language": "python",
   "name": "python3"
  },
  "language_info": {
   "codemirror_mode": {
    "name": "ipython",
    "version": 3
   },
   "file_extension": ".py",
   "mimetype": "text/x-python",
   "name": "python",
   "nbconvert_exporter": "python",
   "pygments_lexer": "ipython3",
   "version": "3.7.0"
  },
  "widgets": {
   "state": {},
   "version": "1.1.2"
  }
 },
 "nbformat": 4,
 "nbformat_minor": 2
}
